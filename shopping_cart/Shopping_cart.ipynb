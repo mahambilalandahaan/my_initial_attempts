{
  "nbformat": 4,
  "nbformat_minor": 0,
  "metadata": {
    "colab": {
      "provenance": []
    },
    "kernelspec": {
      "name": "python3",
      "display_name": "Python 3"
    },
    "language_info": {
      "name": "python"
    }
  },
  "cells": [
    {
      "cell_type": "code",
      "source": [
        "\"\"\"\n",
        "==========================================================\n",
        "🛒 Program: Shopping Cart Program\n",
        "📦 Version: 1.0\n",
        "🗓️  Last Updated: October 26, 2025\n",
        "👩‍💻 Author: Madiha Atif\n",
        "==========================================================\n",
        "\n",
        "🧾 Description:\n",
        "A simple Python command-line shopping cart program\n",
        "that allows users to:\n",
        "- Add items to the cart\n",
        "- Remove items\n",
        "- View cart items\n",
        "- Checkout and display total bill\n",
        "==========================================================\n",
        "\"\"\"\n",
        "\n",
        "goods = {\"flour\": 100, \"rice\": 200, \"pulses\": 30, \"corn\": 56}\n",
        "cart = {}\n",
        "\n",
        "\n",
        "def view_cart():\n",
        "    \"\"\"Displays the contents of the shopping cart.\"\"\"\n",
        "    print(\"\\n🛒 Your cart contains:\")\n",
        "    if not cart:\n",
        "        print(\"Your cart is empty.\")\n",
        "    else:\n",
        "        print(\"\\tItem\\tQuantity\\tSubtotal\")\n",
        "        for item, quantity in cart.items():\n",
        "            subtotal = goods[item] * quantity\n",
        "            print(f\"\\t{item}\\t{quantity}\\t{subtotal}\")\n",
        "        print()\n",
        "\n",
        "\n",
        "def add_item():\n",
        "    \"\"\"Adds an item to the cart.\"\"\"\n",
        "    item = input(\"Enter the item to add: \").lower().strip()\n",
        "    if item in goods:\n",
        "        quantity = int(input(f\"Enter quantity of {item}: \"))\n",
        "        cart[item] = cart.get(item, 0) + quantity\n",
        "        print(f\"✅ {quantity} {item}(s) added to cart.\")\n",
        "    else:\n",
        "        print(f\"❌ {item} not found in our mart.\")\n",
        "\n",
        "\n",
        "def remove_item():\n",
        "    \"\"\"Removes an item from the cart.\"\"\"\n",
        "    item = input(\"Enter item to remove: \").lower().strip()\n",
        "    if item in cart:\n",
        "        del cart[item]\n",
        "        print(f\"🗑️ {item} removed from cart.\")\n",
        "    else:\n",
        "        print(f\"❌ {item} not found in cart.\")\n",
        "\n",
        "\n",
        "def checkout():\n",
        "    \"\"\"Displays cart contents and total bill.\"\"\"\n"
      ],
      "metadata": {
        "id": "dWz6w8ZJjX2u"
      },
      "execution_count": null,
      "outputs": []
    }
  ]
}
